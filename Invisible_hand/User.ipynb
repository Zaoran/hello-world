{
 "cells": [
  {
   "cell_type": "code",
   "execution_count": 1,
   "metadata": {},
   "outputs": [
    {
     "name": "stdout",
     "output_type": "stream",
     "text": [
      "正在获取所有股票信息...\n",
      "已储存所有股票的基本信息！\n",
      "\n",
      "正在获取平安银行000001的数据...\n",
      "平安银行000001数据已保存！\n",
      "\n",
      "正在计算...\n",
      "\n",
      "总交易天数：487\n",
      "波动超过2%天数：351\n",
      "\n",
      "第一区间范围：（9.33,12.2175)\n",
      "最高值在第一区间内波动天数：36\n",
      "\n",
      "第二区间范围：（12.2175,15.105)\n",
      "最高值在第二区间内波动天数：258\n",
      "\n",
      "第三区间范围：（15.105,17.9925)\n",
      "最高值在第三区间内波动天数：147\n",
      "\n",
      "第四区间范围：（17.9925,20.88)\n",
      "最高值在第四区间内波动天数：46\n",
      "\n",
      "计算完成！\n",
      "正在保存计算结果...\n",
      "计算结果保存完毕！\n"
     ]
    }
   ],
   "source": [
    "#使用方法\n",
    "#把‘股票名称’改为所选股票的名称，不要删掉单引号！\n",
    "#把‘123456’改为所选股票的代码，不要删掉单引号！\n",
    "#把‘.SZ’改为对应字母，不要删掉单引号和点！（sh=上证指数 sz=深圳成指 hs300=沪深300指数 sz50=上证50 zxb=中小板 cyb=创业板）\n",
    "#把‘20190101’改为查询开始时间\n",
    "#把‘20201231’改为查询结束时间\n",
    "from get_history import *\n",
    "getHistory('久立特材','','.SZ','20190101','20201231')"
   ]
  },
  {
   "cell_type": "code",
   "execution_count": null,
   "metadata": {},
   "outputs": [],
   "source": []
  }
 ],
 "metadata": {
  "kernelspec": {
   "display_name": "Python 3",
   "language": "python",
   "name": "python3"
  },
  "language_info": {
   "codemirror_mode": {
    "name": "ipython",
    "version": 3
   },
   "file_extension": ".py",
   "mimetype": "text/x-python",
   "name": "python",
   "nbconvert_exporter": "python",
   "pygments_lexer": "ipython3",
   "version": "3.8.3"
  }
 },
 "nbformat": 4,
 "nbformat_minor": 4
}
